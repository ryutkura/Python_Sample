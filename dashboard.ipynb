{
 "cells": [
  {
   "cell_type": "code",
   "execution_count": null,
   "id": "d76f97f7",
   "metadata": {},
   "outputs": [
    {
     "name": "stdout",
     "output_type": "stream",
     "text": [
      "Waiting for data in 'results/histories/hcfwa_SphereFunction_d30'...\n",
      "Dashboard stopped.\n"
     ]
    }
   ],
   "source": [
    "import pandas as pd\n",
    "import matplotlib.pyplot as plt\n",
    "import seaborn as sns\n",
    "import glob # ファイルを検索するためのライブラリ\n",
    "import time\n",
    "from IPython.display import display, clear_output\n",
    "\n",
    "# スタイル設定\n",
    "sns.set_theme(style=\"whitegrid\")\n",
    "\n",
    "# 監視対象の履歴フォルダ\n",
    "# run_experiment.pyで指定したアルゴリズムや問題に合わせて変更してください\n",
    "history_folder = 'results/histories/hcfwa_SphereFunction_d10'\n",
    "\n",
    "# このセルを実行し続けると、グラフが自動で更新されます\n",
    "try:\n",
    "    while True:\n",
    "        clear_output(wait=True) # 以前の出力をクリア\n",
    "        \n",
    "        # フォルダ内の全CSVファイルのパスを取得\n",
    "        csv_files = glob.glob(f'{history_folder}/run_*.csv')\n",
    "        \n",
    "        if not csv_files:\n",
    "            print(f\"Waiting for data in '{history_folder}'...\")\n",
    "            time.sleep(5) # 5秒待機\n",
    "            continue\n",
    "\n",
    "        plt.figure(figsize=(12, 7))\n",
    "        \n",
    "        # 見つかった全ての履歴ファイルをプロット\n",
    "        for i, file_path in enumerate(csv_files):\n",
    "            df_history = pd.read_csv(file_path)\n",
    "            # 全ての線が見えるように、透明度(alpha)を少し下げる\n",
    "            plt.plot(df_history['iteration'], df_history['fitness'], alpha=0.5, label=f'Run {i+1}' if len(csv_files) < 10 else None)\n",
    "        \n",
    "        plt.title(f'Live Convergence View ({len(csv_files)} runs completed)')\n",
    "        plt.xlabel('Iteration')\n",
    "        plt.ylabel('Best Fitness (log scale)')\n",
    "        plt.yscale('log')\n",
    "        plt.grid(True, which=\"both\", ls=\"--\")\n",
    "        \n",
    "        # 凡例は多くなりすぎたら表示しない\n",
    "        if len(csv_files) < 10:\n",
    "            plt.legend()\n",
    "            \n",
    "        display(plt.gcf()) # グラフを表示\n",
    "        plt.close() # メモリを解放\n",
    "        \n",
    "        print(f\"Last updated: {time.strftime('%H:%M:%S')}\")\n",
    "        time.sleep(5) # 5秒ごとに更新\n",
    "\n",
    "except KeyboardInterrupt:\n",
    "    print(\"Dashboard stopped.\")"
   ]
  }
 ],
 "metadata": {
  "kernelspec": {
   "display_name": "python_sample",
   "language": "python",
   "name": "python_sample"
  },
  "language_info": {
   "codemirror_mode": {
    "name": "ipython",
    "version": 3
   },
   "file_extension": ".py",
   "mimetype": "text/x-python",
   "name": "python",
   "nbconvert_exporter": "python",
   "pygments_lexer": "ipython3",
   "version": "3.12.3"
  }
 },
 "nbformat": 4,
 "nbformat_minor": 5
}
